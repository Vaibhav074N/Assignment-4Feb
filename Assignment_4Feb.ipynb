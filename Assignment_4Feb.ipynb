{
  "nbformat": 4,
  "nbformat_minor": 0,
  "metadata": {
    "colab": {
      "provenance": [],
      "authorship_tag": "ABX9TyOXJN35/bVqlBYhEooeNLnr",
      "include_colab_link": true
    },
    "kernelspec": {
      "name": "python3",
      "display_name": "Python 3"
    },
    "language_info": {
      "name": "python"
    }
  },
  "cells": [
    {
      "cell_type": "markdown",
      "metadata": {
        "id": "view-in-github",
        "colab_type": "text"
      },
      "source": [
        "<a href=\"https://colab.research.google.com/github/Vaibhav074N/Assignment-4Feb/blob/main/Assignment_4Feb.ipynb\" target=\"_parent\"><img src=\"https://colab.research.google.com/assets/colab-badge.svg\" alt=\"Open In Colab\"/></a>"
      ]
    },
    {
      "cell_type": "markdown",
      "source": [
        "######Q1."
      ],
      "metadata": {
        "id": "4Cxe4JKMwrpl"
      }
    },
    {
      "cell_type": "code",
      "source": [
        "a=[('sachin tendulkar',34357),('ricky ponting',27483),('jack kallis',25534),('virat kolhi',24936)]\n",
        "print(a)\n",
        "a.sort(key=lambda x:x[1])\n",
        "print(\"Sorted integer list:\",a)"
      ],
      "metadata": {
        "colab": {
          "base_uri": "https://localhost:8080/"
        },
        "id": "7xpXkSqUwurn",
        "outputId": "9208bbf6-2dc0-41b9-aee2-6653b19ea174"
      },
      "execution_count": 3,
      "outputs": [
        {
          "output_type": "stream",
          "name": "stdout",
          "text": [
            "[('sachin tendulkar', 34357), ('ricky ponting', 27483), ('jack kallis', 25534), ('virat kolhi', 24936)]\n",
            "Sorted integer list: [('virat kolhi', 24936), ('jack kallis', 25534), ('ricky ponting', 27483), ('sachin tendulkar', 34357)]\n"
          ]
        }
      ]
    },
    {
      "cell_type": "markdown",
      "source": [
        "#####Q2."
      ],
      "metadata": {
        "id": "renl3QrWxGje"
      }
    },
    {
      "cell_type": "code",
      "source": [
        "l=[1,2,3,4,5,6,7,8,9,10]\n",
        "print(list(map(lambda x: x**2,l)))"
      ],
      "metadata": {
        "colab": {
          "base_uri": "https://localhost:8080/"
        },
        "id": "ImEuTE5cxIcR",
        "outputId": "9e1f2289-ad8a-4877-acdd-d2c9c511bbdf"
      },
      "execution_count": 4,
      "outputs": [
        {
          "output_type": "stream",
          "name": "stdout",
          "text": [
            "[1, 4, 9, 16, 25, 36, 49, 64, 81, 100]\n"
          ]
        }
      ]
    },
    {
      "cell_type": "markdown",
      "source": [
        "######Q3."
      ],
      "metadata": {
        "id": "3U-odX-NxSqY"
      }
    },
    {
      "cell_type": "code",
      "source": [
        "st = [1,2,3,4,5,6,7,8,9,10]\n",
        "print(tuple(map(lambda x:str(x),st)))"
      ],
      "metadata": {
        "colab": {
          "base_uri": "https://localhost:8080/"
        },
        "id": "tBzRGC87xUbU",
        "outputId": "5d7c1e52-df69-4d9b-93a4-4a2818970a4c"
      },
      "execution_count": 5,
      "outputs": [
        {
          "output_type": "stream",
          "name": "stdout",
          "text": [
            "('1', '2', '3', '4', '5', '6', '7', '8', '9', '10')\n"
          ]
        }
      ]
    },
    {
      "cell_type": "markdown",
      "source": [
        "#####Q4."
      ],
      "metadata": {
        "id": "SJ_jPNtBxj6q"
      }
    },
    {
      "cell_type": "code",
      "source": [
        "from functools import reduce\n",
        "l =[1,2,3,4,5,6,7,8,9,10,11,112,13,14,15,16,17,18,19,20,21,22,23,24,25]\n",
        "print(reduce(lambda a,b:a*b,l))"
      ],
      "metadata": {
        "colab": {
          "base_uri": "https://localhost:8080/"
        },
        "id": "p9x1Ug_ixmYu",
        "outputId": "6db8db69-f544-4096-d8b8-dbde0a28cf63"
      },
      "execution_count": 6,
      "outputs": [
        {
          "output_type": "stream",
          "name": "stdout",
          "text": [
            "144771293737755869184000000\n"
          ]
        }
      ]
    },
    {
      "cell_type": "markdown",
      "source": [
        "#####Q5."
      ],
      "metadata": {
        "id": "3MyGCKR_xwEu"
      }
    },
    {
      "cell_type": "code",
      "source": [
        "a=[2,3,6,9,27,60,90,120,55,46]\n",
        "print(list(filter(lambda x: x%2==0 or x%3==0 , a)))"
      ],
      "metadata": {
        "colab": {
          "base_uri": "https://localhost:8080/"
        },
        "id": "RuZ0tkUWxxdL",
        "outputId": "14262a06-980b-4578-cb14-00b0978cb73c"
      },
      "execution_count": 7,
      "outputs": [
        {
          "output_type": "stream",
          "name": "stdout",
          "text": [
            "[2, 3, 6, 9, 27, 60, 90, 120, 46]\n"
          ]
        }
      ]
    },
    {
      "cell_type": "markdown",
      "source": [
        "######Q6."
      ],
      "metadata": {
        "id": "Ur-4KOmhx3sd"
      }
    },
    {
      "cell_type": "code",
      "source": [
        "b = ['python','php','aba','radar','level']\n",
        "print(list(filter(lambda x:x==\"\".join(reversed(x)),b)))\n"
      ],
      "metadata": {
        "colab": {
          "base_uri": "https://localhost:8080/"
        },
        "id": "Pr6Zhf9ux5_I",
        "outputId": "1cd374ab-13df-468f-b1e3-d2ddf981c879"
      },
      "execution_count": 8,
      "outputs": [
        {
          "output_type": "stream",
          "name": "stdout",
          "text": [
            "['php', 'aba', 'radar', 'level']\n"
          ]
        }
      ]
    }
  ]
}